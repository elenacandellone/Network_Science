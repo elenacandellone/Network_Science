{
 "cells": [
  {
   "cell_type": "markdown",
   "id": "b7908100",
   "metadata": {},
   "source": [
    "# Network analysis with Networkx"
   ]
  },
  {
   "cell_type": "markdown",
   "id": "f2cfdf82",
   "metadata": {},
   "source": [
    "Higgs Twitter Dataset https://snap.stanford.edu/data/higgs-twitter.html"
   ]
  },
  {
   "cell_type": "code",
   "execution_count": 19,
   "id": "8182e99d",
   "metadata": {},
   "outputs": [],
   "source": [
    "import gzip\n",
    "\n",
    "with gzip.open('higgs-social_network.edgelist.gz','rt') as fin:        \n",
    "     data = [line.replace('\\n', '').replace('b','').split(' ') for line in fin]   "
   ]
  },
  {
   "cell_type": "code",
   "execution_count": 7,
   "id": "ad1dfdb4",
   "metadata": {},
   "outputs": [],
   "source": [
    "data_tuple = [tuple(i) for i in data]"
   ]
  },
  {
   "cell_type": "code",
   "execution_count": 34,
   "id": "b7f85213",
   "metadata": {},
   "outputs": [],
   "source": [
    "import networkx as nx\n",
    "import numpy as np\n",
    "from scipy import stats\n",
    "import matplotlib.pyplot as plt\n",
    "from operator import itemgetter\n",
    "import seaborn as sns; sns.set()"
   ]
  },
  {
   "cell_type": "code",
   "execution_count": 9,
   "id": "34fca4ad",
   "metadata": {},
   "outputs": [],
   "source": [
    "G = nx.Graph()\n",
    "G.add_edges_from(data_tuple)"
   ]
  },
  {
   "cell_type": "code",
   "execution_count": 14,
   "id": "c234c2b1",
   "metadata": {},
   "outputs": [
    {
     "name": "stdout",
     "output_type": "stream",
     "text": [
      "Number of nodes:      \t456626\n",
      "Number of edges:      \t12508436\n",
      "Max degree:           \t51386\n",
      "Min degree:           \t1\n",
      "Average degree:       \t54.8\n",
      "Most frequent degree: \t1\n"
     ]
    }
   ],
   "source": [
    "degrees = [val for (node, val) in G.degree()]\n",
    "print(f'Number of nodes:      \\t{G.number_of_nodes()}')\n",
    "print(f'Number of edges:      \\t{G.number_of_edges()}')\n",
    "print(f'Max degree:           \\t{np.max(degrees)}')\n",
    "print(f\"Min degree:           \\t{np.min(degrees)}\") \n",
    "print(f\"Average degree:       \\t{np.mean(degrees):.1f}\")  \n",
    "print(f\"Most frequent degree: \\t{stats.mode(degrees)[0][0]}\") "
   ]
  },
  {
   "cell_type": "code",
   "execution_count": 36,
   "id": "cbcfb4a5",
   "metadata": {},
   "outputs": [
    {
     "data": {
      "image/png": "[encoded data removed]",
      "text/plain": [
       "<Figure size 864x576 with 1 Axes>"
      ]
     },
     "metadata": {},
     "output_type": "display_data"
    }
   ],
   "source": [
    "degree_freq = np.array(nx.degree_histogram(G))\n",
    "degrees = range(len(degree_freq))\n",
    "plt.figure(figsize=(12, 8)) \n",
    "plt.loglog(degrees[:], degree_freq[:],'go') \n",
    "plt.xlabel('Degree k')\n",
    "plt.ylabel('Frequency')\n",
    "plt.title('Degree distribution')\n",
    "plt.show()"
   ]
  },
  {
   "cell_type": "code",
   "execution_count": 21,
   "id": "c89c317f",
   "metadata": {},
   "outputs": [
    {
     "name": "stdout",
     "output_type": "stream",
     "text": [
      "Number of connected components: \t156\n"
     ]
    }
   ],
   "source": [
    "print(f\"Number of connected components: \\t{nx.number_connected_components(G)}\")  "
   ]
  },
  {
   "cell_type": "markdown",
   "id": "e1382c2c",
   "metadata": {},
   "source": [
    "Let's consider the largest connected component"
   ]
  },
  {
   "cell_type": "code",
   "execution_count": 22,
   "id": "e8d149ec",
   "metadata": {},
   "outputs": [],
   "source": [
    "largest_subgraph = max((G.subgraph(c) for c in nx.connected_components(G)), key=len)"
   ]
  },
  {
   "cell_type": "code",
   "execution_count": 23,
   "id": "59f229a1",
   "metadata": {},
   "outputs": [
    {
     "name": "stdout",
     "output_type": "stream",
     "text": [
      "Number of nodes:      \t456290\n",
      "Number of edges:      \t12508244\n",
      "Max degree:           \t51386\n",
      "Min degree:           \t1\n",
      "Average degree:       \t54.8\n",
      "Most frequent degree: \t1\n"
     ]
    }
   ],
   "source": [
    "deg = [val for (node, val) in largest_subgraph.degree()]\n",
    "print(f'Number of nodes:      \\t{largest_subgraph.number_of_nodes()}')\n",
    "print(f'Number of edges:      \\t{largest_subgraph.number_of_edges()}')\n",
    "print(f'Max degree:           \\t{np.max(deg)}')\n",
    "print(f\"Min degree:           \\t{np.min(deg)}\") \n",
    "print(f\"Average degree:       \\t{np.mean(deg):.1f}\")  \n",
    "print(f\"Most frequent degree: \\t{stats.mode(deg)[0][0]}\") "
   ]
  },
  {
   "cell_type": "code",
   "execution_count": 26,
   "id": "467933aa",
   "metadata": {},
   "outputs": [],
   "source": [
    "degree_dict = dict(largest_subgraph.degree(largest_subgraph.nodes()))\n",
    "nx.set_node_attributes(largest_subgraph, degree_dict, 'degree')\n",
    "sorted_degree = sorted(degree_dict.items(), key=itemgetter(1), reverse=True)"
   ]
  },
  {
   "cell_type": "code",
   "execution_count": 37,
   "id": "ab5dc873",
   "metadata": {},
   "outputs": [
    {
     "name": "stdout",
     "output_type": "stream",
     "text": [
      "Modularity:   \t0.6186512183066378\n"
     ]
    }
   ],
   "source": [
    "from community import community_louvain\n",
    "partition = community_louvain.best_partition(largest_subgraph)\n",
    "global_modularity = community_louvain.modularity(partition, largest_subgraph)\n",
    "print(f'Modularity:   \\t{global_modularity}')"
   ]
  },
  {
   "cell_type": "markdown",
   "id": "308bfc1a",
   "metadata": {},
   "source": [
    "### Degree distribution - comparison with powerlaws\n"
   ]
  },
  {
   "cell_type": "code",
   "execution_count": 29,
   "id": "0cda8720",
   "metadata": {},
   "outputs": [
    {
     "name": "stdout",
     "output_type": "stream",
     "text": [
      "Calculating best minimal value for power law fit\n",
      "xmin progress: 99%\r"
     ]
    },
    {
     "name": "stderr",
     "output_type": "stream",
     "text": [
      "Assuming nested distributions\n"
     ]
    },
    {
     "name": "stdout",
     "output_type": "stream",
     "text": [
      "truncated pwl is the best fit\n"
     ]
    }
   ],
   "source": [
    "import powerlaw\n",
    "results = powerlaw.Fit(deg)\n",
    "R, p = results.distribution_compare('power_law', 'truncated_power_law')\n",
    "if R > 0: \n",
    "    print('pwl is the best fit')\n",
    "else:\n",
    "     print('truncated pwl is the best fit')"
   ]
  },
  {
   "cell_type": "code",
   "execution_count": 32,
   "id": "ba3e67a3",
   "metadata": {},
   "outputs": [
    {
     "name": "stdout",
     "output_type": "stream",
     "text": [
      "distribution:   \t truncated pwl\n",
      "xmin:           \t 614.0\n",
      "k:              \t 2.2947650347373947\n",
      "error_k:        \t 8.766679605403273e-06\n"
     ]
    }
   ],
   "source": [
    "if R > 0:\n",
    "    print(f'distribution:   \\t pwl')\n",
    "    print(f'xmin:           \\t {results.power_law.xmin}')\n",
    "    print(f'k:              \\t {results.power_law.alpha}')\n",
    "    print(f'error_k:        \\t {results.power_law.sigma}')\n",
    "\n",
    "else:\n",
    "    print(f'distribution:   \\t truncated pwl')\n",
    "    print(f'xmin:           \\t {results.truncated_power_law.xmin}')\n",
    "    print(f'k:              \\t {results.truncated_power_law.alpha}')\n",
    "    print(f'error_k:        \\t {results.truncated_power_law.parameter2}')"
   ]
  },
  {
   "cell_type": "code",
   "execution_count": 35,
   "id": "75a0b30f",
   "metadata": {},
   "outputs": [
    {
     "data": {
      "image/png": "[encoded data removed]",
      "text/plain": [
       "<Figure size 864x576 with 1 Axes>"
      ]
     },
     "metadata": {},
     "output_type": "display_data"
    }
   ],
   "source": [
    "pdf = results.pdf()\n",
    "\n",
    "plt.figure(figsize=(12, 8)) \n",
    "plt.scatter(pdf[0][1:],pdf[1],label = 'data')\n",
    "results.power_law.plot_pdf(label = 'pwl', linestyle = '--')\n",
    "results.truncated_power_law.plot_pdf(label = 'truncated_ pwl', linestyle = '--')\n",
    "plt.xscale('log')\n",
    "plt.yscale('log')\n",
    "plt.xlabel('degree k (log bins)')\n",
    "plt.ylabel('p_k')\n",
    "plt.title('Powerlaw fit')\n",
    "plt.legend()\n",
    "plt.show()"
   ]
  },
  {
   "cell_type": "code",
   "execution_count": null,
   "id": "627f09e8",
   "metadata": {},
   "outputs": [],
   "source": []
  }
 ],
 "metadata": {
  "kernelspec": {
   "display_name": "Python 3 (ipykernel)",
   "language": "python",
   "name": "python3"
  },
  "language_info": {
   "codemirror_mode": {
    "name": "ipython",
    "version": 3
   },
   "file_extension": ".py",
   "mimetype": "text/x-python",
   "name": "python",
   "nbconvert_exporter": "python",
   "pygments_lexer": "ipython3",
   "version": "3.7.7"
  }
 },
 "nbformat": 4,
 "nbformat_minor": 5
}
